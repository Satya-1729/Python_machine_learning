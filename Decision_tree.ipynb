{
  "nbformat": 4,
  "nbformat_minor": 0,
  "metadata": {
    "colab": {
      "provenance": [],
      "authorship_tag": "ABX9TyOmUUxXGEaM6i8Neiunqy2M",
      "include_colab_link": true
    },
    "kernelspec": {
      "name": "python3",
      "display_name": "Python 3"
    },
    "language_info": {
      "name": "python"
    }
  },
  "cells": [
    {
      "cell_type": "markdown",
      "metadata": {
        "id": "view-in-github",
        "colab_type": "text"
      },
      "source": [
        "<a href=\"https://colab.research.google.com/github/Satya-1729/Python_machine_learning/blob/main/Decision_tree.ipynb\" target=\"_parent\"><img src=\"https://colab.research.google.com/assets/colab-badge.svg\" alt=\"Open In Colab\"/></a>"
      ]
    },
    {
      "cell_type": "code",
      "execution_count": 1,
      "metadata": {
        "id": "sny8iewe6S3b"
      },
      "outputs": [],
      "source": [
        "import numpy as np\n",
        "import pandas as pd\n",
        "import matplotlib.pyplot as plt\n",
        "import seaborn as sns\n",
        "import warnings\n",
        "warnings.filterwarnings('ignore')\n"
      ]
    },
    {
      "cell_type": "code",
      "source": [
        "X_train = np.array([[1, 1, 1],\n",
        "[0, 0, 1],\n",
        " [0, 1, 0],\n",
        " [1, 0, 1],\n",
        " [1, 1, 1],\n",
        " [1, 1, 0],\n",
        " [0, 0, 0],\n",
        " [1, 1, 0],\n",
        " [0, 1, 0],\n",
        " [0, 1, 0]])\n",
        "\n",
        "y_train = np.array([1, 1, 0, 0, 1, 1, 0, 1, 0, 0])"
      ],
      "metadata": {
        "id": "2f5D8gcV6dSw"
      },
      "execution_count": 2,
      "outputs": []
    },
    {
      "cell_type": "code",
      "source": [
        "def entropy(p):\n",
        "  if p ==0 or p==1:\n",
        "    return 0\n",
        "  else:\n",
        "    return -p*np.log2(p) - (1-p)*np.log2(1-p)\n",
        "\n",
        "\n",
        "print(entropy(0.5))\n"
      ],
      "metadata": {
        "colab": {
          "base_uri": "https://localhost:8080/"
        },
        "id": "oNzNzzWJ6xO9",
        "outputId": "10e11cf3-9b8a-482d-8785-f29738a279b7"
      },
      "execution_count": 3,
      "outputs": [
        {
          "output_type": "stream",
          "name": "stdout",
          "text": [
            "1.0\n"
          ]
        }
      ]
    },
    {
      "cell_type": "code",
      "source": [
        "#now we will split indices using index features\n",
        "\n",
        "def split_indices(X,index_feature):\n",
        "  left_indices = []\n",
        "  right_indices = []\n",
        "\n",
        "  for i, x in enumerate(X):\n",
        "    if x[index_feature] == 1:\n",
        "      left_indices.append(i)\n",
        "    else:\n",
        "      right_indices.append(i)\n",
        "  return left_indices, right_indices\n",
        "\n",
        "\n"
      ],
      "metadata": {
        "id": "3Uic3hks7OCG"
      },
      "execution_count": 5,
      "outputs": []
    },
    {
      "cell_type": "code",
      "source": [
        "print(split_indices(X_train,0))"
      ],
      "metadata": {
        "colab": {
          "base_uri": "https://localhost:8080/"
        },
        "id": "LUUB3dhp7x0m",
        "outputId": "3559e815-45a7-481c-8a7d-f11e3a9caae7"
      },
      "execution_count": 6,
      "outputs": [
        {
          "output_type": "stream",
          "name": "stdout",
          "text": [
            "([0, 3, 4, 5, 7], [1, 2, 6, 8, 9])\n"
          ]
        }
      ]
    },
    {
      "cell_type": "code",
      "source": [
        "# now we will calculate the weighted entropy\n",
        "\n",
        "def weighted_entropy(X,y,left_indices, right_indices):\n",
        "\n",
        "  w_left = len(left_indices)/ len(X)\n",
        "  w_right = len(right_indices)/ len(X)\n",
        "  p_left = sum(y[left_indices])/len(left_indices)\n",
        "  p_right = sum(y[right_indices])/len(right_indices)\n",
        "\n",
        "\n",
        "  weighted_entropy = w_left * entropy(p_left) + w_right * entropy(p_right)\n",
        "\n",
        "  return weighted_entropy"
      ],
      "metadata": {
        "id": "WoaS09u973YB"
      },
      "execution_count": 17,
      "outputs": []
    },
    {
      "cell_type": "code",
      "source": [
        "left_indices, right_indices = split_indices(X_train,0)\n",
        "weighted_entropy(X_train,y_train,left_indices, right_indices)\n"
      ],
      "metadata": {
        "colab": {
          "base_uri": "https://localhost:8080/"
        },
        "id": "nlPVPlqc-p6h",
        "outputId": "7789e294-a898-4d2a-c1d3-c257a84f9bca"
      },
      "execution_count": 20,
      "outputs": [
        {
          "output_type": "execute_result",
          "data": {
            "text/plain": [
              "np.float64(0.7219280948873623)"
            ]
          },
          "metadata": {},
          "execution_count": 20
        }
      ]
    },
    {
      "cell_type": "code",
      "source": [
        "#now we will calculate the information gain\n",
        "\n",
        "def info_gain(X,y, left_indices, right_indices):\n",
        "\n",
        "  we_ent = weighted_entropy(X_train,y_train,left_indices,right_indices)\n",
        "\n",
        "  p_node = sum(y_train)/len(y_train)\n",
        "  infor_gain = entropy(p_node) - we_ent\n",
        "\n",
        "  return infor_gain\n"
      ],
      "metadata": {
        "id": "4uy2JLk7-9Vr"
      },
      "execution_count": 31,
      "outputs": []
    },
    {
      "cell_type": "code",
      "source": [
        "info_gain(X_train,y_train,left_indices, right_indices)"
      ],
      "metadata": {
        "colab": {
          "base_uri": "https://localhost:8080/"
        },
        "id": "mT1BB3XjDQgs",
        "outputId": "ec4d7b55-0d63-4d9d-b4bb-22e7eeb56111"
      },
      "execution_count": 33,
      "outputs": [
        {
          "output_type": "execute_result",
          "data": {
            "text/plain": [
              "np.float64(0.2780719051126377)"
            ]
          },
          "metadata": {},
          "execution_count": 33
        }
      ]
    },
    {
      "cell_type": "code",
      "source": [
        "for i, feature_name in enumerate(['Ear Shape', 'Face Shape', 'Whiskers']):\n",
        "    left_indices, right_indices = split_indices(X_train, i)\n",
        "    # Now call the function info_gain, not the variable\n",
        "    ig = info_gain(X_train, y_train, left_indices, right_indices)\n",
        "    print(f\"Feature: {feature_name}, information gain if we split the root node using this feature: {ig:.2f}\")"
      ],
      "metadata": {
        "colab": {
          "base_uri": "https://localhost:8080/",
          "height": 204
        },
        "id": "fMFYgkuiDxcJ",
        "outputId": "42007a40-7b25-4094-f904-65103388226b"
      },
      "execution_count": 38,
      "outputs": [
        {
          "output_type": "error",
          "ename": "TypeError",
          "evalue": "'numpy.float64' object is not callable",
          "traceback": [
            "\u001b[0;31m---------------------------------------------------------------------------\u001b[0m",
            "\u001b[0;31mTypeError\u001b[0m                                 Traceback (most recent call last)",
            "\u001b[0;32m<ipython-input-38-4f500e01afe2>\u001b[0m in \u001b[0;36m<cell line: 0>\u001b[0;34m()\u001b[0m\n\u001b[1;32m      2\u001b[0m     \u001b[0mleft_indices\u001b[0m\u001b[0;34m,\u001b[0m \u001b[0mright_indices\u001b[0m \u001b[0;34m=\u001b[0m \u001b[0msplit_indices\u001b[0m\u001b[0;34m(\u001b[0m\u001b[0mX_train\u001b[0m\u001b[0;34m,\u001b[0m \u001b[0mi\u001b[0m\u001b[0;34m)\u001b[0m\u001b[0;34m\u001b[0m\u001b[0;34m\u001b[0m\u001b[0m\n\u001b[1;32m      3\u001b[0m     \u001b[0;31m# Now call the function info_gain, not the variable\u001b[0m\u001b[0;34m\u001b[0m\u001b[0;34m\u001b[0m\u001b[0m\n\u001b[0;32m----> 4\u001b[0;31m     \u001b[0mig\u001b[0m \u001b[0;34m=\u001b[0m \u001b[0minfo_gain\u001b[0m\u001b[0;34m(\u001b[0m\u001b[0mX_train\u001b[0m\u001b[0;34m,\u001b[0m \u001b[0my_train\u001b[0m\u001b[0;34m,\u001b[0m \u001b[0mleft_indices\u001b[0m\u001b[0;34m,\u001b[0m \u001b[0mright_indices\u001b[0m\u001b[0;34m)\u001b[0m\u001b[0;34m\u001b[0m\u001b[0;34m\u001b[0m\u001b[0m\n\u001b[0m\u001b[1;32m      5\u001b[0m     \u001b[0mprint\u001b[0m\u001b[0;34m(\u001b[0m\u001b[0;34mf\"Feature: {feature_name}, information gain if we split the root node using this feature: {ig:.2f}\"\u001b[0m\u001b[0;34m)\u001b[0m\u001b[0;34m\u001b[0m\u001b[0;34m\u001b[0m\u001b[0m\n",
            "\u001b[0;31mTypeError\u001b[0m: 'numpy.float64' object is not callable"
          ]
        }
      ]
    }
  ]
}